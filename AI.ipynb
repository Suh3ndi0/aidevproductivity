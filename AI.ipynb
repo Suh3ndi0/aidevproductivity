{
 "cells": [
  {
   "cell_type": "markdown",
   "id": "030070c3",
   "metadata": {},
   "source": [
    "1. Tentukan Library yang digunakan"
   ]
  },
  {
   "cell_type": "code",
   "execution_count": 2,
   "id": "05ee8815",
   "metadata": {},
   "outputs": [],
   "source": [
    "import numpy as np\n",
    "import pandas as pd\n",
    "from sklearn.preprocessing import StandardScaler\n",
    "from sklearn.model_selection import train_test_split\n",
    "from sklearn import svm\n",
    "from sklearn.metrics import accuracy_score"
   ]
  },
  {
   "cell_type": "markdown",
   "id": "fb0c6ba2",
   "metadata": {},
   "source": [
    "2. Lot Dataset"
   ]
  },
  {
   "cell_type": "code",
   "execution_count": 3,
   "id": "00b63066",
   "metadata": {},
   "outputs": [],
   "source": [
    "AI_dataset = pd.read_csv('ai_dev_productivity.csv')"
   ]
  },
  {
   "cell_type": "code",
   "execution_count": 4,
   "id": "fdb98435",
   "metadata": {},
   "outputs": [
    {
     "data": {
      "text/html": [
       "<div>\n",
       "<style scoped>\n",
       "    .dataframe tbody tr th:only-of-type {\n",
       "        vertical-align: middle;\n",
       "    }\n",
       "\n",
       "    .dataframe tbody tr th {\n",
       "        vertical-align: top;\n",
       "    }\n",
       "\n",
       "    .dataframe thead th {\n",
       "        text-align: right;\n",
       "    }\n",
       "</style>\n",
       "<table border=\"1\" class=\"dataframe\">\n",
       "  <thead>\n",
       "    <tr style=\"text-align: right;\">\n",
       "      <th></th>\n",
       "      <th>hours_coding</th>\n",
       "      <th>coffee_intake_mg</th>\n",
       "      <th>distractions</th>\n",
       "      <th>sleep_hours</th>\n",
       "      <th>commits</th>\n",
       "      <th>bugs_reported</th>\n",
       "      <th>ai_usage_hours</th>\n",
       "      <th>cognitive_load</th>\n",
       "      <th>task_success</th>\n",
       "    </tr>\n",
       "  </thead>\n",
       "  <tbody>\n",
       "    <tr>\n",
       "      <th>0</th>\n",
       "      <td>5.99</td>\n",
       "      <td>600</td>\n",
       "      <td>1</td>\n",
       "      <td>5.8</td>\n",
       "      <td>2</td>\n",
       "      <td>1</td>\n",
       "      <td>0.71</td>\n",
       "      <td>5.4</td>\n",
       "      <td>1</td>\n",
       "    </tr>\n",
       "    <tr>\n",
       "      <th>1</th>\n",
       "      <td>4.72</td>\n",
       "      <td>568</td>\n",
       "      <td>2</td>\n",
       "      <td>6.9</td>\n",
       "      <td>5</td>\n",
       "      <td>3</td>\n",
       "      <td>1.75</td>\n",
       "      <td>4.7</td>\n",
       "      <td>1</td>\n",
       "    </tr>\n",
       "    <tr>\n",
       "      <th>2</th>\n",
       "      <td>6.30</td>\n",
       "      <td>560</td>\n",
       "      <td>1</td>\n",
       "      <td>8.9</td>\n",
       "      <td>2</td>\n",
       "      <td>0</td>\n",
       "      <td>2.27</td>\n",
       "      <td>2.2</td>\n",
       "      <td>1</td>\n",
       "    </tr>\n",
       "    <tr>\n",
       "      <th>3</th>\n",
       "      <td>8.05</td>\n",
       "      <td>600</td>\n",
       "      <td>7</td>\n",
       "      <td>6.3</td>\n",
       "      <td>9</td>\n",
       "      <td>5</td>\n",
       "      <td>1.40</td>\n",
       "      <td>5.9</td>\n",
       "      <td>0</td>\n",
       "    </tr>\n",
       "    <tr>\n",
       "      <th>4</th>\n",
       "      <td>4.53</td>\n",
       "      <td>421</td>\n",
       "      <td>6</td>\n",
       "      <td>6.9</td>\n",
       "      <td>4</td>\n",
       "      <td>0</td>\n",
       "      <td>1.26</td>\n",
       "      <td>6.3</td>\n",
       "      <td>1</td>\n",
       "    </tr>\n",
       "  </tbody>\n",
       "</table>\n",
       "</div>"
      ],
      "text/plain": [
       "   hours_coding  coffee_intake_mg  distractions  sleep_hours  commits  \\\n",
       "0          5.99               600             1          5.8        2   \n",
       "1          4.72               568             2          6.9        5   \n",
       "2          6.30               560             1          8.9        2   \n",
       "3          8.05               600             7          6.3        9   \n",
       "4          4.53               421             6          6.9        4   \n",
       "\n",
       "   bugs_reported  ai_usage_hours  cognitive_load  task_success  \n",
       "0              1            0.71             5.4             1  \n",
       "1              3            1.75             4.7             1  \n",
       "2              0            2.27             2.2             1  \n",
       "3              5            1.40             5.9             0  \n",
       "4              0            1.26             6.3             1  "
      ]
     },
     "execution_count": 4,
     "metadata": {},
     "output_type": "execute_result"
    }
   ],
   "source": [
    "AI_dataset.head()"
   ]
  },
  {
   "cell_type": "code",
   "execution_count": 5,
   "id": "8a1a0f3d",
   "metadata": {},
   "outputs": [
    {
     "data": {
      "text/plain": [
       "(500, 9)"
      ]
     },
     "execution_count": 5,
     "metadata": {},
     "output_type": "execute_result"
    }
   ],
   "source": [
    "AI_dataset.shape"
   ]
  },
  {
   "cell_type": "code",
   "execution_count": 6,
   "id": "a96a4286",
   "metadata": {},
   "outputs": [
    {
     "data": {
      "text/plain": [
       "1    303\n",
       "0    197\n",
       "Name: task_success, dtype: int64"
      ]
     },
     "execution_count": 6,
     "metadata": {},
     "output_type": "execute_result"
    }
   ],
   "source": [
    "AI_dataset['task_success'].value_counts()"
   ]
  },
  {
   "cell_type": "code",
   "execution_count": 9,
   "id": "bf00691d",
   "metadata": {},
   "outputs": [],
   "source": [
    "# memisahkan data dan label\n",
    "X = AI_dataset.drop(columns='task_success',axis=1)\n",
    "Y = AI_dataset['task_success']"
   ]
  },
  {
   "cell_type": "code",
   "execution_count": 10,
   "id": "2668caa3",
   "metadata": {},
   "outputs": [
    {
     "name": "stdout",
     "output_type": "stream",
     "text": [
      "     hours_coding  coffee_intake_mg  distractions  sleep_hours  commits  \\\n",
      "0            5.99               600             1          5.8        2   \n",
      "1            4.72               568             2          6.9        5   \n",
      "2            6.30               560             1          8.9        2   \n",
      "3            8.05               600             7          6.3        9   \n",
      "4            4.53               421             6          6.9        4   \n",
      "..            ...               ...           ...          ...      ...   \n",
      "495          6.08               594             1          5.3        3   \n",
      "496          2.93               382             2          6.7        3   \n",
      "497          4.62               494             4          7.5        2   \n",
      "498          3.25               296             6          6.9        1   \n",
      "499          2.23               252             4          8.8        0   \n",
      "\n",
      "     bugs_reported  ai_usage_hours  cognitive_load  \n",
      "0                1            0.71             5.4  \n",
      "1                3            1.75             4.7  \n",
      "2                0            2.27             2.2  \n",
      "3                5            1.40             5.9  \n",
      "4                0            1.26             6.3  \n",
      "..             ...             ...             ...  \n",
      "495              0            0.91             6.8  \n",
      "496              2            1.38             5.9  \n",
      "497              0            0.41             4.5  \n",
      "498              0            1.52             6.3  \n",
      "499              0            1.05             2.6  \n",
      "\n",
      "[500 rows x 8 columns]\n"
     ]
    }
   ],
   "source": [
    "print(X)"
   ]
  },
  {
   "cell_type": "code",
   "execution_count": 11,
   "id": "64b36b84",
   "metadata": {},
   "outputs": [
    {
     "name": "stdout",
     "output_type": "stream",
     "text": [
      "0      1\n",
      "1      1\n",
      "2      1\n",
      "3      0\n",
      "4      1\n",
      "      ..\n",
      "495    1\n",
      "496    0\n",
      "497    1\n",
      "498    0\n",
      "499    0\n",
      "Name: task_success, Length: 500, dtype: int64\n"
     ]
    }
   ],
   "source": [
    "print(Y)"
   ]
  },
  {
   "cell_type": "markdown",
   "id": "0f36dfcc",
   "metadata": {},
   "source": [
    "3. Standarisasi Data"
   ]
  },
  {
   "cell_type": "code",
   "execution_count": 12,
   "id": "d4a1afae",
   "metadata": {},
   "outputs": [],
   "source": [
    "scaler = StandardScaler()"
   ]
  },
  {
   "cell_type": "code",
   "execution_count": 13,
   "id": "49e3a641",
   "metadata": {},
   "outputs": [
    {
     "data": {
      "text/plain": [
       "StandardScaler()"
      ]
     },
     "execution_count": 13,
     "metadata": {},
     "output_type": "execute_result"
    }
   ],
   "source": [
    "scaler.fit(X)"
   ]
  },
  {
   "cell_type": "code",
   "execution_count": 14,
   "id": "0d59397e",
   "metadata": {},
   "outputs": [],
   "source": [
    "standarized_data = scaler.transform(X)"
   ]
  },
  {
   "cell_type": "code",
   "execution_count": 15,
   "id": "34442fca",
   "metadata": {},
   "outputs": [
    {
     "name": "stdout",
     "output_type": "stream",
     "text": [
      "[[ 5.00898350e-01  9.62131748e-01 -1.17848421e+00 ...  1.28886769e-01\n",
      "  -7.38535004e-01  4.83023123e-01]\n",
      " [-1.51955616e-01  7.37084850e-01 -5.82085316e-01 ...  1.94419338e+00\n",
      "   2.20457660e-01  1.08088341e-01]\n",
      " [ 6.60256405e-01  6.80823126e-01 -1.17848421e+00 ... -7.78766535e-01\n",
      "   6.99953992e-01 -1.23096445e+00]\n",
      " ...\n",
      " [-2.03361440e-01  2.16663900e-01  6.10712463e-01 ... -7.78766535e-01\n",
      "  -1.01516750e+00  9.64118010e-04]\n",
      " [-9.07621230e-01 -1.17581378e+00  1.80351024e+00 ... -7.78766535e-01\n",
      "   8.37274364e-03  9.65082128e-01]\n",
      " [-1.43196064e+00 -1.48525326e+00  6.10712463e-01 ... -7.78766535e-01\n",
      "  -4.25018172e-01 -1.01671600e+00]]\n"
     ]
    }
   ],
   "source": [
    "print(standarized_data)"
   ]
  },
  {
   "cell_type": "code",
   "execution_count": 16,
   "id": "525db18d",
   "metadata": {},
   "outputs": [],
   "source": [
    "X = standarized_data\n",
    "Y = AI_dataset['task_success']"
   ]
  },
  {
   "cell_type": "code",
   "execution_count": 20,
   "id": "12c3d0cd",
   "metadata": {},
   "outputs": [
    {
     "name": "stdout",
     "output_type": "stream",
     "text": [
      "[[ 5.00898350e-01  9.62131748e-01 -1.17848421e+00 ...  1.28886769e-01\n",
      "  -7.38535004e-01  4.83023123e-01]\n",
      " [-1.51955616e-01  7.37084850e-01 -5.82085316e-01 ...  1.94419338e+00\n",
      "   2.20457660e-01  1.08088341e-01]\n",
      " [ 6.60256405e-01  6.80823126e-01 -1.17848421e+00 ... -7.78766535e-01\n",
      "   6.99953992e-01 -1.23096445e+00]\n",
      " ...\n",
      " [-2.03361440e-01  2.16663900e-01  6.10712463e-01 ... -7.78766535e-01\n",
      "  -1.01516750e+00  9.64118010e-04]\n",
      " [-9.07621230e-01 -1.17581378e+00  1.80351024e+00 ... -7.78766535e-01\n",
      "   8.37274364e-03  9.65082128e-01]\n",
      " [-1.43196064e+00 -1.48525326e+00  6.10712463e-01 ... -7.78766535e-01\n",
      "  -4.25018172e-01 -1.01671600e+00]]\n",
      "0      1\n",
      "1      1\n",
      "2      1\n",
      "3      0\n",
      "4      1\n",
      "      ..\n",
      "495    1\n",
      "496    0\n",
      "497    1\n",
      "498    0\n",
      "499    0\n",
      "Name: task_success, Length: 500, dtype: int64\n"
     ]
    }
   ],
   "source": [
    "print (X)\n",
    "print (Y)"
   ]
  },
  {
   "cell_type": "markdown",
   "id": "08bf9e00",
   "metadata": {},
   "source": [
    "4. Memisahkan Data Training dan Data Testing"
   ]
  },
  {
   "cell_type": "code",
   "execution_count": 22,
   "id": "ac58f559",
   "metadata": {},
   "outputs": [],
   "source": [
    "X_train, X_test, Y_train, Y_test = train_test_split(X, Y, test_size= 0.2, stratify=Y, random_state=2)"
   ]
  },
  {
   "cell_type": "code",
   "execution_count": 23,
   "id": "f2b716cc",
   "metadata": {},
   "outputs": [
    {
     "name": "stdout",
     "output_type": "stream",
     "text": [
      "(500, 8) (400, 8) (100, 8)\n"
     ]
    }
   ],
   "source": [
    "print(X.shape, X_train.shape, X_test.shape)"
   ]
  },
  {
   "cell_type": "markdown",
   "id": "c0265400",
   "metadata": {},
   "source": [
    "5. Membuat Model Data Latih Menggunakan Algoritma SVM"
   ]
  },
  {
   "cell_type": "code",
   "execution_count": 24,
   "id": "150acb50",
   "metadata": {},
   "outputs": [],
   "source": [
    "classifier = svm.SVC(kernel='linear')"
   ]
  },
  {
   "cell_type": "code",
   "execution_count": 25,
   "id": "9c9891b8",
   "metadata": {},
   "outputs": [
    {
     "data": {
      "text/plain": [
       "SVC(kernel='linear')"
      ]
     },
     "execution_count": 25,
     "metadata": {},
     "output_type": "execute_result"
    }
   ],
   "source": [
    "classifier.fit(X_train, Y_train)"
   ]
  },
  {
   "cell_type": "markdown",
   "id": "68ed9b30",
   "metadata": {},
   "source": [
    "6. Membuat Model Evaluasi Untuk Mengukur Tingakat Akurasi\n"
   ]
  },
  {
   "cell_type": "code",
   "execution_count": 26,
   "id": "5452839d",
   "metadata": {},
   "outputs": [],
   "source": [
    "X_train_prediction = classifier.predict(X_train)\n",
    "training_data_accuracy = accuracy_score(X_train_prediction, Y_train)"
   ]
  },
  {
   "cell_type": "code",
   "execution_count": 27,
   "id": "fd964922",
   "metadata": {},
   "outputs": [
    {
     "name": "stdout",
     "output_type": "stream",
     "text": [
      "akurasi data training adalah =  0.8975\n"
     ]
    }
   ],
   "source": [
    "print('akurasi data training adalah = ',training_data_accuracy)"
   ]
  },
  {
   "cell_type": "code",
   "execution_count": 28,
   "id": "5b05ddb7",
   "metadata": {},
   "outputs": [],
   "source": [
    "X_train_prediction = classifier.predict(X_test)\n",
    "test_data_accuracy = accuracy_score(X_train_prediction, Y_test)"
   ]
  },
  {
   "cell_type": "code",
   "execution_count": 35,
   "id": "ece087b9",
   "metadata": {},
   "outputs": [
    {
     "name": "stdout",
     "output_type": "stream",
     "text": [
      "akurasi data testing adalah =  0.86\n"
     ]
    }
   ],
   "source": [
    "print('akurasi data testing adalah = ', test_data_accuracy)"
   ]
  },
  {
   "cell_type": "markdown",
   "id": "a25878fb",
   "metadata": {},
   "source": [
    "7. Membuat Model Prediksi"
   ]
  },
  {
   "cell_type": "code",
   "execution_count": 57,
   "id": "04e045d5",
   "metadata": {},
   "outputs": [
    {
     "name": "stdout",
     "output_type": "stream",
     "text": [
      "[[ 0.50089835  0.96213175 -1.17848421 -0.80838316 -0.9651097   0.12888677\n",
      "  -0.738535    0.48302312]]\n",
      "[1]\n",
      "teks sukses\n"
     ]
    },
    {
     "name": "stderr",
     "output_type": "stream",
     "text": [
      "c:\\Users\\USER\\anaconda3\\lib\\site-packages\\sklearn\\base.py:450: UserWarning: X does not have valid feature names, but StandardScaler was fitted with feature names\n",
      "  warnings.warn(\n"
     ]
    }
   ],
   "source": [
    "input_data = (5.99,600,1,5.8,2,1,0.71,5.4)\n",
    "\n",
    "\n",
    "input_data_as_numpy_array = np.array(input_data)\n",
    "\n",
    "input_data_reshape = input_data_as_numpy_array.reshape(1,-1)\n",
    "\n",
    "std_data = scaler.transform(input_data_reshape)\n",
    "print(std_data)\n",
    "\n",
    "prediction = classifier.predict(std_data)\n",
    "print(prediction)\n",
    "\n",
    "if (prediction [0] == 0) :\n",
    " print ('teks tidak sukses')\n",
    "else : \n",
    "  print('teks sukses')"
   ]
  },
  {
   "cell_type": "markdown",
   "id": "904dd3bc",
   "metadata": {},
   "source": [
    "8. Simpan Model"
   ]
  },
  {
   "cell_type": "code",
   "execution_count": 58,
   "id": "09c2f845",
   "metadata": {},
   "outputs": [],
   "source": [
    "import pickle"
   ]
  },
  {
   "cell_type": "code",
   "execution_count": 59,
   "id": "62ef481a",
   "metadata": {},
   "outputs": [],
   "source": [
    "filename = 'ai_model.sav'\n",
    "pickle.dump(classifier, open(filename,'wb'))"
   ]
  }
 ],
 "metadata": {
  "kernelspec": {
   "display_name": "base",
   "language": "python",
   "name": "python3"
  },
  "language_info": {
   "codemirror_mode": {
    "name": "ipython",
    "version": 3
   },
   "file_extension": ".py",
   "mimetype": "text/x-python",
   "name": "python",
   "nbconvert_exporter": "python",
   "pygments_lexer": "ipython3",
   "version": "3.9.12"
  }
 },
 "nbformat": 4,
 "nbformat_minor": 5
}
